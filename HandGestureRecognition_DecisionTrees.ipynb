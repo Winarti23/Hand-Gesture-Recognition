{
 "cells": [
  {
   "cell_type": "code",
   "execution_count": 209,
   "metadata": {},
   "outputs": [],
   "source": [
    "import numpy as np\n",
    "import pandas as pd\n",
    "import matplotlib.pyplot as plt\n",
    "from skimage.feature import hog\n",
    "from sklearn import datasets\n",
    "from sklearn import tree\n",
    "from sklearn.preprocessing import LabelEncoder\n",
    "from sklearn.metrics import confusion_matrix, f1_score, accuracy_score\n",
    "from mlxtend.plotting import plot_confusion_matrix"
   ]
  },
  {
   "cell_type": "code",
   "execution_count": 211,
   "metadata": {},
   "outputs": [],
   "source": [
    "data_train = pd.read_csv('../archive/sign_mnist_train.csv')\n",
    "data_test = pd.read_csv('../archive/sign_mnist_test.csv')"
   ]
  },
  {
   "cell_type": "code",
   "execution_count": 215,
   "metadata": {},
   "outputs": [],
   "source": [
    "image_train = data_train.iloc[0:27455, 1:785].values\n",
    "label_train = data_train.iloc[0:27455, 0].values"
   ]
  },
  {
   "cell_type": "code",
   "execution_count": 216,
   "metadata": {},
   "outputs": [],
   "source": [
    "image_test = data_test.iloc[0:7172, 1:785].values\n",
    "label_test = data_test.iloc[0:7172,0].values"
   ]
  },
  {
   "cell_type": "code",
   "execution_count": 219,
   "metadata": {},
   "outputs": [
    {
     "data": {
      "text/plain": [
       "<matplotlib.image.AxesImage at 0x7f2d1513d430>"
      ]
     },
     "execution_count": 219,
     "metadata": {},
     "output_type": "execute_result"
    },
    {
     "data": {
      "image/png": "[encoded data removed]",
      "text/plain": [
       "<Figure size 432x288 with 1 Axes>"
      ]
     },
     "metadata": {
      "needs_background": "light"
     },
     "output_type": "display_data"
    }
   ],
   "source": [
    "plt.imshow(image_train[0].reshape(28,28), cmap='gray')"
   ]
  },
  {
   "cell_type": "code",
   "execution_count": 220,
   "metadata": {
    "scrolled": true
   },
   "outputs": [
    {
     "data": {
      "text/plain": [
       "3"
      ]
     },
     "execution_count": 220,
     "metadata": {},
     "output_type": "execute_result"
    }
   ],
   "source": [
    "label_train[0]"
   ]
  },
  {
   "cell_type": "code",
   "execution_count": 364,
   "metadata": {},
   "outputs": [
    {
     "data": {
      "text/plain": [
       "(144,)"
      ]
     },
     "execution_count": 364,
     "metadata": {},
     "output_type": "execute_result"
    }
   ],
   "source": [
    "feature, hog_img = hog(image_train[1].reshape(28,28), orientations=9, pixels_per_cell=(8, 8), cells_per_block=(2,2), visualize=True, block_norm='L2')\n",
    "feature.shape"
   ]
  },
  {
   "cell_type": "code",
   "execution_count": 365,
   "metadata": {},
   "outputs": [
    {
     "data": {
      "text/plain": [
       "<BarContainer object of 144 artists>"
      ]
     },
     "execution_count": 365,
     "metadata": {},
     "output_type": "execute_result"
    },
    {
     "data": {
      "image/png": "[encoded data removed]",
      "text/plain": [
       "<Figure size 432x288 with 1 Axes>"
      ]
     },
     "metadata": {
      "needs_background": "light"
     },
     "output_type": "display_data"
    }
   ],
   "source": [
    "plt.bar(list(range(feature.shape[0])), feature)"
   ]
  },
  {
   "cell_type": "code",
   "execution_count": 366,
   "metadata": {},
   "outputs": [],
   "source": [
    "n_dims = feature.shape[0]"
   ]
  },
  {
   "cell_type": "code",
   "execution_count": 367,
   "metadata": {},
   "outputs": [
    {
     "data": {
      "text/plain": [
       "144"
      ]
     },
     "execution_count": 367,
     "metadata": {},
     "output_type": "execute_result"
    }
   ],
   "source": [
    "n_dims"
   ]
  },
  {
   "cell_type": "code",
   "execution_count": 368,
   "metadata": {},
   "outputs": [],
   "source": [
    "n_samples = image_train.shape[0]"
   ]
  },
  {
   "cell_type": "code",
   "execution_count": 369,
   "metadata": {},
   "outputs": [
    {
     "data": {
      "text/plain": [
       "27455"
      ]
     },
     "execution_count": 369,
     "metadata": {},
     "output_type": "execute_result"
    }
   ],
   "source": [
    "n_samples"
   ]
  },
  {
   "cell_type": "code",
   "execution_count": 370,
   "metadata": {},
   "outputs": [],
   "source": [
    "X_train, y_train = datasets.make_classification(n_samples=n_samples, n_features=n_dims)"
   ]
  },
  {
   "cell_type": "code",
   "execution_count": 371,
   "metadata": {},
   "outputs": [],
   "source": [
    "for i in range(n_samples):\n",
    "    X_train[i], _ = hog(image_train[i].reshape(28,28), orientations=9, pixels_per_cell=(8, 8), cells_per_block=(2,2), visualize=True, block_norm='L2')\n",
    "    y_train[i] = label_train[i]"
   ]
  },
  {
   "cell_type": "code",
   "execution_count": 372,
   "metadata": {},
   "outputs": [],
   "source": [
    "clf = tree.DecisionTreeClassifier()"
   ]
  },
  {
   "cell_type": "code",
   "execution_count": 373,
   "metadata": {},
   "outputs": [],
   "source": [
    "clf = clf.fit(X_train, y_train)"
   ]
  },
  {
   "cell_type": "code",
   "execution_count": 374,
   "metadata": {},
   "outputs": [],
   "source": [
    "n_samples = image_test.shape[0]"
   ]
  },
  {
   "cell_type": "code",
   "execution_count": 375,
   "metadata": {},
   "outputs": [],
   "source": [
    "X_test, y_test = datasets.make_classification(n_samples=n_samples, n_features=n_dims)"
   ]
  },
  {
   "cell_type": "code",
   "execution_count": 376,
   "metadata": {},
   "outputs": [],
   "source": [
    "for i in range(n_samples):\n",
    "    X_test[i], _ = hog(image_test[i].reshape(28,28), orientations=9, pixels_per_cell=(8, 8), cells_per_block=(2,2), visualize=True, block_norm='L2')\n",
    "    y_test[i] = label_test[i]"
   ]
  },
  {
   "cell_type": "code",
   "execution_count": 377,
   "metadata": {},
   "outputs": [],
   "source": [
    "y_pred = clf.predict(X_test)"
   ]
  },
  {
   "cell_type": "code",
   "execution_count": 378,
   "metadata": {},
   "outputs": [],
   "source": [
    "out_one_hot = clf.predict(X_test[14].reshape(1, n_dims))"
   ]
  },
  {
   "cell_type": "code",
   "execution_count": 379,
   "metadata": {},
   "outputs": [
    {
     "data": {
      "text/plain": [
       "array([19])"
      ]
     },
     "execution_count": 379,
     "metadata": {},
     "output_type": "execute_result"
    }
   ],
   "source": [
    "out_one_hot"
   ]
  },
  {
   "cell_type": "code",
   "execution_count": 380,
   "metadata": {},
   "outputs": [
    {
     "data": {
      "text/plain": [
       "<matplotlib.image.AxesImage at 0x7f2d14b58730>"
      ]
     },
     "execution_count": 380,
     "metadata": {},
     "output_type": "execute_result"
    },
    {
     "data": {
      "image/png": "[encoded data removed]",
      "text/plain": [
       "<Figure size 432x288 with 1 Axes>"
      ]
     },
     "metadata": {
      "needs_background": "light"
     },
     "output_type": "display_data"
    }
   ],
   "source": [
    "plt.imshow(image_test[14].reshape(28,28), cmap='gray')"
   ]
  },
  {
   "cell_type": "code",
   "execution_count": 381,
   "metadata": {},
   "outputs": [],
   "source": [
    "cm = confusion_matrix(label_test,y_pred)"
   ]
  },
  {
   "cell_type": "code",
   "execution_count": 382,
   "metadata": {},
   "outputs": [
    {
     "data": {
      "text/plain": [
       "array([[242,   0,   0,   1,   6,   1,   0,   1,   0,  17,   7,   0,  47,\n",
       "          0,   0,   0,   0,   6,   1,   1,   0,   1,   0,   0],\n",
       "       [  0, 214,   0,   1,  15,   0,   0,   0,   0,  58,   4,  15,   4,\n",
       "          7,   0,   5,   7,   1,  10,  71,   6,   2,  12,   0],\n",
       "       [  7,   0, 207,   4,  15,   1,   0,   0,   0,   0,   1,   0,   1,\n",
       "         22,   3,   3,  13,  32,   0,   0,   0,   0,   0,   1],\n",
       "       [  0,   5,   6, 115,   0,   0,   0,   0,  26,  17,   0,   8,   5,\n",
       "          2,   1,   4,   5,  14,  11,  14,  11,   0,   1,   0],\n",
       "       [ 79,   1,   2,  24, 220,   6,   1,   3,  49,   1,   5,  44,  18,\n",
       "          4,   0,  12,   0,  18,   0,   0,   2,   0,   9,   0],\n",
       "       [ 11,   2,   4,   3,   0, 158,   0,   0,   3,   0,   2,   1,   0,\n",
       "          0,   3,  31,   0,   1,   2,   1,  16,   8,   0,   1],\n",
       "       [  0,   0,   8,   0,   0,   9, 164, 120,   0,   1,   2,   0,   4,\n",
       "          1,  16,   0,   0,   0,   4,  16,   0,   0,   3,   0],\n",
       "       [  0,   0,   2,   0,   3,   0,  62, 293,   0,   0,   0,   0,   0,\n",
       "          0,   0,   5,  21,   0,  49,   1,   0,   0,   0,   0],\n",
       "       [ 13,  13,   0,   2,   1,   2,   1,   0, 140,   0,  14,   3,   3,\n",
       "          0,   3,   0,   0,  15,   1,  19,   1,   2,  13,  42],\n",
       "       [  0,  16,   0,  22,   0,   0,  12,  16,   8, 119,   4,   0,   1,\n",
       "          0,   8,   3,  45,   1,   0,  44,  19,   2,   0,  11],\n",
       "       [  1,   0,   0,   1,   0,   0,   0,   0,   0,   1, 161,   0,   0,\n",
       "          0,   1,   7,   2,   0,  13,   0,   0,   2,  13,   7],\n",
       "       [ 27,   1,   1,   7,  28,   0,  12,   2,  19,   0,   2, 171,  37,\n",
       "         21,   1,   0,   1,  29,   1,  18,   0,   0,   2,  14],\n",
       "       [  1,   0,   0,   4,  23,   0,   0,   3,   2,   0,   0,  28, 124,\n",
       "         11,  15,  10,   0,  48,   0,   4,   3,   0,  14,   1],\n",
       "       [ 18,   0,  16,   0,   2,   5,   0,   0,  16,   0,   0,  17,   2,\n",
       "        146,   0,   0,   0,   1,   0,   0,   0,   0,  23,   0],\n",
       "       [  0,   0,   1,  17,  18,   5,  19,   3,   0,   0,   0,   0,   2,\n",
       "          0, 219,   0,   0,  20,  24,   0,   0,   0,  16,   3],\n",
       "       [  0,   2,   0,   0,   0,   0,   1,   0,   3,   0,   0,   2,   1,\n",
       "         24,   3, 103,   0,   2,   0,   0,   2,  15,   5,   1],\n",
       "       [  0,   1,   0,   4,   0,   0,   0,   0,   0,  34,   0,   0,   3,\n",
       "          0,   0,   0,  48,  16,   0,  38,   0,   0,   0,   0],\n",
       "       [ 13,   3,   0,   9,   4,   3,   0,   0,  42,   1,   0,   6,  35,\n",
       "          0,   0,   0,   0, 112,   0,   0,   0,   0,  18,   0],\n",
       "       [  0,   0,   0,   1,   0,   0,   1,  17,   0,   0,   2,   1,  20,\n",
       "          0,   3,   1,   3,   0, 118,   0,  17,   4,   0,  60],\n",
       "       [  0,   3,   0,  35,   0,   0,   0,   0,   0,  11,   3,   1,  36,\n",
       "          0,   1,   0,  60,   0,   0,  90,  19,   6,   1,   0],\n",
       "       [  1,   0,   0,   1,   0,   0,   0,   0,   0,   0,   0,   0,   0,\n",
       "          0,   0,   4,   5,   0,  17,   8, 243,  66,   0,   1],\n",
       "       [  0,   0,   0,   0,   1,   0,   0,   0,   0,   0,   0,   0,   0,\n",
       "          0,   2,   0,   0,   0,   0,   1,  45, 149,   0,   8],\n",
       "       [  0,   0,   0,   0,  19,  11,   4,   5,   2,   0,  18,   6,   0,\n",
       "          3,  23,  47,   0,  18,  21,  14,   9,   1,  65,   1],\n",
       "       [  0,   3,   0,  20,   0,  22,   2,   4,   0,  13,   2,   4,   1,\n",
       "          0,   1,   0,  35,   0,  14,   8,   0,   0,   6, 197]])"
      ]
     },
     "execution_count": 382,
     "metadata": {},
     "output_type": "execute_result"
    }
   ],
   "source": [
    "cm"
   ]
  },
  {
   "cell_type": "code",
   "execution_count": 383,
   "metadata": {},
   "outputs": [],
   "source": [
    "class_names = ['0', '1', '2', '3', '4', '5', '6', '7', '8', '9','10','11','12','13','14','15','16','17','18','19','20','21','22','23']\n"
   ]
  },
  {
   "cell_type": "code",
   "execution_count": 384,
   "metadata": {},
   "outputs": [
    {
     "data": {
      "image/png": "[encoded data removed]",
      "text/plain": [
       "<Figure size 432x288 with 1 Axes>"
      ]
     },
     "metadata": {
      "needs_background": "light"
     },
     "output_type": "display_data"
    }
   ],
   "source": [
    "fig, ax = plot_confusion_matrix(conf_mat=cm, class_names = class_names)"
   ]
  },
  {
   "cell_type": "code",
   "execution_count": 385,
   "metadata": {},
   "outputs": [],
   "source": [
    "from sklearn.metrics import precision_score"
   ]
  },
  {
   "cell_type": "code",
   "execution_count": 386,
   "metadata": {},
   "outputs": [],
   "source": [
    "precision = precision_score(y_test, y_pred, average=None)"
   ]
  },
  {
   "cell_type": "code",
   "execution_count": 387,
   "metadata": {},
   "outputs": [
    {
     "data": {
      "text/plain": [
       "array([0.58595642, 0.81060606, 0.83805668, 0.42435424, 0.61971831,\n",
       "       0.70852018, 0.58781362, 0.62740899, 0.4516129 , 0.43589744,\n",
       "       0.7092511 , 0.55700326, 0.36046512, 0.60580913, 0.72277228,\n",
       "       0.43829787, 0.19591837, 0.33532934, 0.41258741, 0.25862069,\n",
       "       0.61832061, 0.57751938, 0.32338308, 0.56609195])"
      ]
     },
     "execution_count": 387,
     "metadata": {},
     "output_type": "execute_result"
    }
   ],
   "source": [
    "precision"
   ]
  },
  {
   "cell_type": "code",
   "execution_count": 388,
   "metadata": {},
   "outputs": [],
   "source": [
    "from sklearn.metrics import recall_score"
   ]
  },
  {
   "cell_type": "code",
   "execution_count": 389,
   "metadata": {},
   "outputs": [],
   "source": [
    "recall = recall_score(y_test, y_pred, average=None)"
   ]
  },
  {
   "cell_type": "code",
   "execution_count": 390,
   "metadata": {},
   "outputs": [
    {
     "data": {
      "text/plain": [
       "array([0.73111782, 0.49537037, 0.66774194, 0.46938776, 0.44176707,\n",
       "       0.63967611, 0.47126437, 0.67201835, 0.48611111, 0.35951662,\n",
       "       0.77033493, 0.43401015, 0.42611684, 0.59349593, 0.63112392,\n",
       "       0.62804878, 0.33333333, 0.45528455, 0.47580645, 0.33834586,\n",
       "       0.70231214, 0.72330097, 0.24344569, 0.59337349])"
      ]
     },
     "execution_count": 390,
     "metadata": {},
     "output_type": "execute_result"
    }
   ],
   "source": [
    "recall"
   ]
  },
  {
   "cell_type": "code",
   "execution_count": 391,
   "metadata": {},
   "outputs": [],
   "source": [
    "from sklearn.metrics import accuracy_score"
   ]
  },
  {
   "cell_type": "code",
   "execution_count": 392,
   "metadata": {},
   "outputs": [],
   "source": [
    "accuracy = accuracy_score(y_test, y_pred)"
   ]
  },
  {
   "cell_type": "code",
   "execution_count": 393,
   "metadata": {},
   "outputs": [
    {
     "data": {
      "text/plain": [
       "0.5323480200780815"
      ]
     },
     "execution_count": 393,
     "metadata": {},
     "output_type": "execute_result"
    }
   ],
   "source": [
    "accuracy"
   ]
  },
  {
   "cell_type": "code",
   "execution_count": 394,
   "metadata": {},
   "outputs": [],
   "source": [
    "f1 = f1_score(label_test,y_pred,average='macro')"
   ]
  },
  {
   "cell_type": "code",
   "execution_count": 395,
   "metadata": {},
   "outputs": [
    {
     "data": {
      "text/plain": [
       "0.5253688825610862"
      ]
     },
     "execution_count": 395,
     "metadata": {},
     "output_type": "execute_result"
    }
   ],
   "source": [
    "f1"
   ]
  },
  {
   "cell_type": "code",
   "execution_count": null,
   "metadata": {},
   "outputs": [],
   "source": []
  }
 ],
 "metadata": {
  "kernelspec": {
   "display_name": "Python 3",
   "language": "python",
   "name": "python3"
  },
  "language_info": {
   "codemirror_mode": {
    "name": "ipython",
    "version": 3
   },
   "file_extension": ".py",
   "mimetype": "text/x-python",
   "name": "python",
   "nbconvert_exporter": "python",
   "pygments_lexer": "ipython3",
   "version": "3.8.5"
  }
 },
 "nbformat": 4,
 "nbformat_minor": 5
}

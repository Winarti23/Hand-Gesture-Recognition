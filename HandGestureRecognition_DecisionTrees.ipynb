{
 "cells": [
  {
   "cell_type": "code",
   "execution_count": 34,
   "metadata": {},
   "outputs": [],
   "source": [
    "import numpy as np\n",
    "import pandas as pd\n",
    "import matplotlib.pyplot as plt\n",
    "from skimage.feature import hog\n",
    "from sklearn import datasets\n",
    "from sklearn import tree\n",
    "from sklearn.preprocessing import LabelEncoder\n",
    "from sklearn.metrics import confusion_matrix, f1_score, accuracy_score\n",
    "from mlxtend.plotting import plot_confusion_matrix"
   ]
  },
  {
   "cell_type": "code",
   "execution_count": 35,
   "metadata": {},
   "outputs": [],
   "source": [
    "\n",
    "data_train = pd.read_csv('../archive/sign_mnist_train.csv')\n",
    "data_test = pd.read_csv('../archive/sign_mnist_test.csv')"
   ]
  },
  {
   "cell_type": "code",
   "execution_count": 36,
   "metadata": {},
   "outputs": [],
   "source": [
    "image_train = data_train.iloc[0:27455, 1:785].values\n",
    "label_train = data_train.iloc[0:27455, 0].values"
   ]
  },
  {
   "cell_type": "code",
   "execution_count": 37,
   "metadata": {},
   "outputs": [],
   "source": [
    "image_test = data_test.iloc[0:7172, 1:785].values\n",
    "label_test = data_test.iloc[0:7172,0].values"
   ]
  },
  {
   "cell_type": "code",
   "execution_count": 38,
   "metadata": {},
   "outputs": [],
   "source": [
    "feature, hog_img = hog(image_train[1].reshape(28,28), orientations=9, pixels_per_cell=(8, 8), cells_per_block=(2,2), visualize=True, block_norm='L2')"
   ]
  },
  {
   "cell_type": "code",
   "execution_count": 39,
   "metadata": {},
   "outputs": [
    {
     "data": {
      "text/plain": [
       "(144,)"
      ]
     },
     "execution_count": 39,
     "metadata": {},
     "output_type": "execute_result"
    }
   ],
   "source": [
    "feature.shape"
   ]
  },
  {
   "cell_type": "code",
   "execution_count": 40,
   "metadata": {},
   "outputs": [
    {
     "data": {
      "text/plain": [
       "<matplotlib.image.AxesImage at 0x7efbc8b38e80>"
      ]
     },
     "execution_count": 40,
     "metadata": {},
     "output_type": "execute_result"
    },
    {
     "data": {
      "image/png": "[encoded data removed]",
      "text/plain": [
       "<Figure size 432x288 with 1 Axes>"
      ]
     },
     "metadata": {
      "needs_background": "light"
     },
     "output_type": "display_data"
    }
   ],
   "source": [
    "plt.imshow(image_train[0].reshape(28,28), cmap='gray')"
   ]
  },
  {
   "cell_type": "code",
   "execution_count": 41,
   "metadata": {},
   "outputs": [
    {
     "data": {
      "text/plain": [
       "3"
      ]
     },
     "execution_count": 41,
     "metadata": {},
     "output_type": "execute_result"
    }
   ],
   "source": [
    "label_train[0]"
   ]
  },
  {
   "cell_type": "code",
   "execution_count": 42,
   "metadata": {},
   "outputs": [
    {
     "data": {
      "text/plain": [
       "<BarContainer object of 144 artists>"
      ]
     },
     "execution_count": 42,
     "metadata": {},
     "output_type": "execute_result"
    },
    {
     "data": {
      "image/png": "[encoded data removed]",
      "text/plain": [
       "<Figure size 432x288 with 1 Axes>"
      ]
     },
     "metadata": {
      "needs_background": "light"
     },
     "output_type": "display_data"
    }
   ],
   "source": [
    "plt.bar(list(range(feature.shape[0])), feature)"
   ]
  },
  {
   "cell_type": "code",
   "execution_count": 43,
   "metadata": {},
   "outputs": [],
   "source": [
    "n_dims = feature.shape[0]"
   ]
  },
  {
   "cell_type": "code",
   "execution_count": 44,
   "metadata": {},
   "outputs": [
    {
     "data": {
      "text/plain": [
       "144"
      ]
     },
     "execution_count": 44,
     "metadata": {},
     "output_type": "execute_result"
    }
   ],
   "source": [
    "n_dims"
   ]
  },
  {
   "cell_type": "code",
   "execution_count": 45,
   "metadata": {},
   "outputs": [],
   "source": [
    "n_samples = image_train.shape[0]"
   ]
  },
  {
   "cell_type": "code",
   "execution_count": 46,
   "metadata": {},
   "outputs": [
    {
     "data": {
      "text/plain": [
       "27455"
      ]
     },
     "execution_count": 46,
     "metadata": {},
     "output_type": "execute_result"
    }
   ],
   "source": [
    "n_samples"
   ]
  },
  {
   "cell_type": "code",
   "execution_count": 47,
   "metadata": {},
   "outputs": [],
   "source": [
    "X_train, y_train = datasets.make_classification(n_samples=n_samples, n_features=n_dims)"
   ]
  },
  {
   "cell_type": "code",
   "execution_count": 77,
   "metadata": {},
   "outputs": [],
   "source": [
    "for i in range(n_samples):\n",
    "    X_train[i], _ = hog(image_train[i].reshape(28,28), orientations=9, pixels_per_cell=(8, 8), cells_per_block=(2,2), visualize=True, block_norm='L2')\n",
    "    y_train[i] = label_train[i]"
   ]
  },
  {
   "cell_type": "code",
   "execution_count": 49,
   "metadata": {},
   "outputs": [],
   "source": [
    "clf = tree.DecisionTreeClassifier()"
   ]
  },
  {
   "cell_type": "code",
   "execution_count": 50,
   "metadata": {},
   "outputs": [],
   "source": [
    "clf = clf.fit(X_train, y_train)"
   ]
  },
  {
   "cell_type": "code",
   "execution_count": 51,
   "metadata": {},
   "outputs": [],
   "source": [
    "n_samples = image_test.shape[0]"
   ]
  },
  {
   "cell_type": "code",
   "execution_count": 52,
   "metadata": {},
   "outputs": [],
   "source": [
    "X_test, y_test = datasets.make_classification(n_samples=n_samples, n_features=n_dims)"
   ]
  },
  {
   "cell_type": "code",
   "execution_count": 53,
   "metadata": {},
   "outputs": [],
   "source": [
    "for i in range(n_samples):\n",
    "    X_test[i], _ = hog(image_test[i].reshape(28,28), orientations=9, pixels_per_cell=(8, 8), cells_per_block=(2,2), visualize=True, block_norm='L2')\n",
    "    y_test[i] = label_test[i]"
   ]
  },
  {
   "cell_type": "code",
   "execution_count": 55,
   "metadata": {},
   "outputs": [],
   "source": [
    "y_pred = clf.predict(X_test)"
   ]
  },
  {
   "cell_type": "code",
   "execution_count": 56,
   "metadata": {},
   "outputs": [],
   "source": [
    "out_one_hot = clf.predict(X_test[14].reshape(1, n_dims))"
   ]
  },
  {
   "cell_type": "code",
   "execution_count": 57,
   "metadata": {},
   "outputs": [
    {
     "data": {
      "text/plain": [
       "array([16])"
      ]
     },
     "execution_count": 57,
     "metadata": {},
     "output_type": "execute_result"
    }
   ],
   "source": [
    "out_one_hot"
   ]
  },
  {
   "cell_type": "code",
   "execution_count": 58,
   "metadata": {},
   "outputs": [
    {
     "data": {
      "text/plain": [
       "<matplotlib.image.AxesImage at 0x7efbc895a940>"
      ]
     },
     "execution_count": 58,
     "metadata": {},
     "output_type": "execute_result"
    },
    {
     "data": {
      "image/png": "[encoded data removed]",
      "text/plain": [
       "<Figure size 432x288 with 1 Axes>"
      ]
     },
     "metadata": {
      "needs_background": "light"
     },
     "output_type": "display_data"
    }
   ],
   "source": [
    "plt.imshow(image_test[14].reshape(28,28), cmap='gray')"
   ]
  },
  {
   "cell_type": "code",
   "execution_count": 59,
   "metadata": {},
   "outputs": [],
   "source": [
    "cm = confusion_matrix(label_test,y_pred)"
   ]
  },
  {
   "cell_type": "code",
   "execution_count": 60,
   "metadata": {},
   "outputs": [
    {
     "data": {
      "text/plain": [
       "array([[246,   0,   1,   0,   6,   1,   0,   0,   0,   0,   6,  12,  20,\n",
       "          0,   0,   0,  13,   6,   1,   0,   0,   1,   0,  18],\n",
       "       [  0, 199,   0,   1,   8,   1,   2,   0,   0,  62,  32,   5,   0,\n",
       "          6,   1,  18,   7,  13,   2,  53,   2,   3,  16,   1],\n",
       "       [  1,   0, 203,   1,  37,   3,   0,   0,  16,   0,   2,  17,   1,\n",
       "          7,   3,  18,   0,   1,   0,   0,   0,   0,   0,   0],\n",
       "       [  0,  31,   0, 101,   0,   6,   1,   1,  11,  11,   0,   2,   3,\n",
       "          2,   0,   0,  28,  13,  11,  13,  11,   0,   0,   0],\n",
       "       [ 67,  14,   2,  27, 225,   6,   0,   0,  33,   2,   1,  73,   5,\n",
       "          0,   0,  12,   0,  25,   0,   0,   0,   2,   4,   0],\n",
       "       [  1,   1,   6,   9,   0, 147,   0,   0,   6,  18,   8,   1,   0,\n",
       "          0,  16,   2,   0,   0,   2,   0,  16,   8,   6,   0],\n",
       "       [  0,   0,   0,   4,   0,   0, 209,  93,   0,  13,   3,   0,   9,\n",
       "          0,   0,   0,   0,   0,   6,   1,   0,   0,  10,   0],\n",
       "       [  0,   0,   2,   0,   0,   0,  47, 297,   0,  18,   0,   7,   0,\n",
       "          0,   0,  14,   5,   0,  45,   1,   0,   0,   0,   0],\n",
       "       [  0,  12,   0,  16,   2,  11,   0,   9,  83,  10,  24,   0,   8,\n",
       "          0,  41,   1,   0,   1,   1,  19,   0,   0,   4,  46],\n",
       "       [  0,  17,   0,  14,   0,   0,   1,  19,   4, 162,   0,   0,   8,\n",
       "          0,   1,   0,  31,   1,   3,  50,   3,   2,   0,  15],\n",
       "       [  3,   1,   0,   0,   0,   0,   0,   3,   0,  15, 172,   0,   1,\n",
       "          0,   2,   0,   0,   0,  12,   0,   0,   0,   0,   0],\n",
       "       [ 34,   1,   1,   6,  33,   0,  12,   0,  16,   0,   7, 170,  36,\n",
       "          7,   9,   0,   6,  21,   0,  18,   2,   0,   2,  13],\n",
       "       [ 28,   0,   0,   4,  18,   0,   0,   0,   0,   0,   1,  32, 171,\n",
       "          6,   8,   2,   1,   3,   0,   0,   3,   0,   3,  11],\n",
       "       [  0,   0,  21,   1,   7,   5,   3,   0,  16,   0,   0,  17,   2,\n",
       "        142,   0,   0,   0,   1,   0,   0,   0,   0,  31,   0],\n",
       "       [  0,   0,   0,  17,   4,   0,   3,   4,   4,   0,   0,  20,   2,\n",
       "          0, 244,   0,   0,   0,  28,   0,   0,   0,  20,   1],\n",
       "       [  0,   2,   0,   0,   0,   0,   0,   0,   0,   0,   1,   4,   2,\n",
       "          4,  23, 102,   0,   3,   1,   0,   1,   0,  21,   0],\n",
       "       [  0,   0,   0,   5,   0,   0,   0,   0,   0,  37,   0,   0,   1,\n",
       "          0,   0,   1,  60,  16,   0,  24,   0,   0,   0,   0],\n",
       "       [  5,   2,   0,   9,   8,   0,   0,   0,  47,   1,   0,   8,  26,\n",
       "         17,   0,   0,   0, 101,   2,   0,   0,   0,   1,  19],\n",
       "       [  2,  20,   0,  18,   0,  31,   1,  36,   0,   0,   2,   2,   0,\n",
       "          0,   3,   1,   0,   3,  96,   0,   1,  20,   0,  12],\n",
       "       [  0,   2,   0,  26,   0,   0,   1,   7,   0,   9,   3,   1,  34,\n",
       "          0,   0,   0,  67,   2,   0,  92,  19,   3,   0,   0],\n",
       "       [  1,   1,   0,   1,   0,   8,   0,   0,   0,   0,   1,   0,   0,\n",
       "          0,   0,  22,   4,   0,   0,   6, 263,  39,   0,   0],\n",
       "       [  0,   0,   0,   0,   1,   0,   0,   0,   0,   0,   0,   0,   0,\n",
       "          0,  10,   0,   0,   0,   9,   1,  55, 130,   0,   0],\n",
       "       [ 12,   0,   0,   0,   7,  10,   4,   5,  17,   0,   0,   9,   5,\n",
       "          0,  19,  35,  21,  18,   9,   3,   0,   1,  81,  11],\n",
       "       [  0,  14,   0,  18,   1,  22,   3,   0,   1,  26,   1,   2,   0,\n",
       "          1,   0,   1,  13,   0,   0,  21,   3,   1,   5, 199]])"
      ]
     },
     "execution_count": 60,
     "metadata": {},
     "output_type": "execute_result"
    }
   ],
   "source": [
    "cm"
   ]
  },
  {
   "cell_type": "code",
   "execution_count": 61,
   "metadata": {},
   "outputs": [],
   "source": [
    "class_names = ['0', '1', '2', '3', '4', '5', '6', '7', '8', '9','10','11','12','13','14','15','16','17','18','19','20','21','22','23']\n"
   ]
  },
  {
   "cell_type": "code",
   "execution_count": 62,
   "metadata": {},
   "outputs": [
    {
     "data": {
      "image/png": "[encoded data removed]",
      "text/plain": [
       "<Figure size 432x288 with 1 Axes>"
      ]
     },
     "metadata": {
      "needs_background": "light"
     },
     "output_type": "display_data"
    }
   ],
   "source": [
    "fig, ax = plot_confusion_matrix(conf_mat=cm, class_names = class_names)"
   ]
  },
  {
   "cell_type": "code",
   "execution_count": 63,
   "metadata": {},
   "outputs": [],
   "source": [
    "from sklearn.metrics import precision_score"
   ]
  },
  {
   "cell_type": "code",
   "execution_count": 64,
   "metadata": {},
   "outputs": [],
   "source": [
    "precision = precision_score(y_test, y_pred, average=None)"
   ]
  },
  {
   "cell_type": "code",
   "execution_count": 65,
   "metadata": {},
   "outputs": [
    {
     "data": {
      "text/plain": [
       "array([0.615     , 0.62776025, 0.86016949, 0.36330935, 0.6302521 ,\n",
       "       0.58565737, 0.728223  , 0.62658228, 0.32677165, 0.421875  ,\n",
       "       0.65151515, 0.44502618, 0.51197605, 0.73958333, 0.64210526,\n",
       "       0.44541485, 0.234375  , 0.44298246, 0.42105263, 0.30463576,\n",
       "       0.6939314 , 0.61904762, 0.39705882, 0.57514451])"
      ]
     },
     "execution_count": 65,
     "metadata": {},
     "output_type": "execute_result"
    }
   ],
   "source": [
    "precision"
   ]
  },
  {
   "cell_type": "code",
   "execution_count": 66,
   "metadata": {},
   "outputs": [],
   "source": [
    "from sklearn.metrics import recall_score"
   ]
  },
  {
   "cell_type": "code",
   "execution_count": 67,
   "metadata": {},
   "outputs": [],
   "source": [
    "recall = recall_score(y_test, y_pred, average=None)"
   ]
  },
  {
   "cell_type": "code",
   "execution_count": 68,
   "metadata": {},
   "outputs": [
    {
     "data": {
      "text/plain": [
       "array([0.74320242, 0.46064815, 0.65483871, 0.4122449 , 0.45180723,\n",
       "       0.5951417 , 0.60057471, 0.68119266, 0.28819444, 0.48942598,\n",
       "       0.82296651, 0.43147208, 0.58762887, 0.57723577, 0.70317003,\n",
       "       0.62195122, 0.41666667, 0.41056911, 0.38709677, 0.34586466,\n",
       "       0.76011561, 0.63106796, 0.30337079, 0.59939759])"
      ]
     },
     "execution_count": 68,
     "metadata": {},
     "output_type": "execute_result"
    }
   ],
   "source": [
    "recall"
   ]
  },
  {
   "cell_type": "code",
   "execution_count": 70,
   "metadata": {},
   "outputs": [],
   "source": [
    "from sklearn.metrics import accuracy_score"
   ]
  },
  {
   "cell_type": "code",
   "execution_count": 71,
   "metadata": {},
   "outputs": [],
   "source": [
    "accuracy = accuracy_score(y_test, y_pred)"
   ]
  },
  {
   "cell_type": "code",
   "execution_count": 72,
   "metadata": {},
   "outputs": [
    {
     "data": {
      "text/plain": [
       "0.5430842163970998"
      ]
     },
     "execution_count": 72,
     "metadata": {},
     "output_type": "execute_result"
    }
   ],
   "source": [
    "accuracy"
   ]
  },
  {
   "cell_type": "code",
   "execution_count": 73,
   "metadata": {},
   "outputs": [],
   "source": [
    "f1 = f1_score(label_test,y_pred,average='macro')"
   ]
  },
  {
   "cell_type": "code",
   "execution_count": 75,
   "metadata": {},
   "outputs": [
    {
     "data": {
      "text/plain": [
       "0.5336528236499488"
      ]
     },
     "execution_count": 75,
     "metadata": {},
     "output_type": "execute_result"
    }
   ],
   "source": [
    "f1"
   ]
  }
 ],
 "metadata": {
  "kernelspec": {
   "display_name": "Python 3",
   "language": "python",
   "name": "python3"
  },
  "language_info": {
   "codemirror_mode": {
    "name": "ipython",
    "version": 3
   },
   "file_extension": ".py",
   "mimetype": "text/x-python",
   "name": "python",
   "nbconvert_exporter": "python",
   "pygments_lexer": "ipython3",
   "version": "3.8.5"
  }
 },
 "nbformat": 4,
 "nbformat_minor": 5
}
